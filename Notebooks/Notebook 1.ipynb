{
 "cells": [
  {
   "cell_type": "code",
   "execution_count": 2,
   "metadata": {},
   "outputs": [],
   "source": [
    "conversations = [\n",
    "    {\n",
    "        \"customer\": \"Hi there, what time do you open tomorrow for lunch?\",\n",
    "        \"response\": \"Our hours are 9am-10pm everyday.\"\n",
    "    },\n",
    "    {\n",
    "        \"customer\": \"Can I speak to your Manager?\",\n",
    "        \"response\": \"You can contact our customer service team at (123) 456-7890.\"\n",
    "    },\n",
    "    {\n",
    "        \"customer\": \"The food was amazing thanks!\",\n",
    "        \"response\": \"\"\n",
    "    },\n",
    "    {\n",
    "        \"customer\": \"What type of products do you have?\",\n",
    "        \"response\": \"We carry various food items including tacos, burritos, and more.\"\n",
    "    }\n",
    "]"
   ]
  },
  {
   "cell_type": "code",
   "execution_count": 3,
   "metadata": {},
   "outputs": [
    {
     "name": "stdout",
     "output_type": "stream",
     "text": [
      "Sorry, we don't have an answer for that.\n",
      "Sorry, we don't have an answer for that.\n",
      "Sorry, we don't have an answer for that.\n",
      "Sorry, we don't have an answer for that.\n",
      "Sorry, we don't have an answer for that.\n",
      "Sorry, we don't have an answer for that.\n",
      "Sorry, we don't have an answer for that.\n",
      "Sorry, we don't have an answer for that.\n",
      "Sorry, we don't have an answer for that.\n",
      "Sorry, we don't have an answer for that.\n",
      "Sorry, we don't have an answer for that.\n"
     ]
    },
    {
     "ename": "KeyboardInterrupt",
     "evalue": "Interrupted by user",
     "output_type": "error",
     "traceback": [
      "\u001b[1;31m---------------------------------------------------------------------------\u001b[0m",
      "\u001b[1;31mKeyboardInterrupt\u001b[0m                         Traceback (most recent call last)",
      "\u001b[1;32me:\\github\\bot\\Notebooks\\Notebook 1.ipynb Cell 2'\u001b[0m in \u001b[0;36m<cell line: 1>\u001b[1;34m()\u001b[0m\n\u001b[0;32m      <a href='vscode-notebook-cell:/e%3A/github/bot/Notebooks/Notebook%201.ipynb#ch0000001?line=0'>1</a>\u001b[0m \u001b[39mwhile\u001b[39;00m \u001b[39mTrue\u001b[39;00m:\n\u001b[1;32m----> <a href='vscode-notebook-cell:/e%3A/github/bot/Notebooks/Notebook%201.ipynb#ch0000001?line=1'>2</a>\u001b[0m     customer_input \u001b[39m=\u001b[39m \u001b[39minput\u001b[39;49m(\u001b[39m\"\u001b[39;49m\u001b[39mWhat is your question?\u001b[39;49m\u001b[39m\\n\u001b[39;49;00m\u001b[39m\"\u001b[39;49m)\n\u001b[0;32m      <a href='vscode-notebook-cell:/e%3A/github/bot/Notebooks/Notebook%201.ipynb#ch0000001?line=2'>3</a>\u001b[0m     resposne \u001b[39m=\u001b[39m \u001b[39mNone\u001b[39;00m\n\u001b[0;32m      <a href='vscode-notebook-cell:/e%3A/github/bot/Notebooks/Notebook%201.ipynb#ch0000001?line=4'>5</a>\u001b[0m     \u001b[39mfor\u001b[39;00m conversation \u001b[39min\u001b[39;00m conversations:\n",
      "File \u001b[1;32mc:\\Users\\eshan\\.virtualenvs\\bot-2z_5KoXr\\lib\\site-packages\\ipykernel\\kernelbase.py:1161\u001b[0m, in \u001b[0;36mKernel.raw_input\u001b[1;34m(self, prompt)\u001b[0m\n\u001b[0;32m   <a href='file:///c%3A/Users/eshan/.virtualenvs/bot-2z_5KoXr/lib/site-packages/ipykernel/kernelbase.py?line=1156'>1157</a>\u001b[0m \u001b[39mif\u001b[39;00m \u001b[39mnot\u001b[39;00m \u001b[39mself\u001b[39m\u001b[39m.\u001b[39m_allow_stdin:\n\u001b[0;32m   <a href='file:///c%3A/Users/eshan/.virtualenvs/bot-2z_5KoXr/lib/site-packages/ipykernel/kernelbase.py?line=1157'>1158</a>\u001b[0m     \u001b[39mraise\u001b[39;00m StdinNotImplementedError(\n\u001b[0;32m   <a href='file:///c%3A/Users/eshan/.virtualenvs/bot-2z_5KoXr/lib/site-packages/ipykernel/kernelbase.py?line=1158'>1159</a>\u001b[0m         \u001b[39m\"\u001b[39m\u001b[39mraw_input was called, but this frontend does not support input requests.\u001b[39m\u001b[39m\"\u001b[39m\n\u001b[0;32m   <a href='file:///c%3A/Users/eshan/.virtualenvs/bot-2z_5KoXr/lib/site-packages/ipykernel/kernelbase.py?line=1159'>1160</a>\u001b[0m     )\n\u001b[1;32m-> <a href='file:///c%3A/Users/eshan/.virtualenvs/bot-2z_5KoXr/lib/site-packages/ipykernel/kernelbase.py?line=1160'>1161</a>\u001b[0m \u001b[39mreturn\u001b[39;00m \u001b[39mself\u001b[39;49m\u001b[39m.\u001b[39;49m_input_request(\n\u001b[0;32m   <a href='file:///c%3A/Users/eshan/.virtualenvs/bot-2z_5KoXr/lib/site-packages/ipykernel/kernelbase.py?line=1161'>1162</a>\u001b[0m     \u001b[39mstr\u001b[39;49m(prompt),\n\u001b[0;32m   <a href='file:///c%3A/Users/eshan/.virtualenvs/bot-2z_5KoXr/lib/site-packages/ipykernel/kernelbase.py?line=1162'>1163</a>\u001b[0m     \u001b[39mself\u001b[39;49m\u001b[39m.\u001b[39;49m_parent_ident[\u001b[39m\"\u001b[39;49m\u001b[39mshell\u001b[39;49m\u001b[39m\"\u001b[39;49m],\n\u001b[0;32m   <a href='file:///c%3A/Users/eshan/.virtualenvs/bot-2z_5KoXr/lib/site-packages/ipykernel/kernelbase.py?line=1163'>1164</a>\u001b[0m     \u001b[39mself\u001b[39;49m\u001b[39m.\u001b[39;49mget_parent(\u001b[39m\"\u001b[39;49m\u001b[39mshell\u001b[39;49m\u001b[39m\"\u001b[39;49m),\n\u001b[0;32m   <a href='file:///c%3A/Users/eshan/.virtualenvs/bot-2z_5KoXr/lib/site-packages/ipykernel/kernelbase.py?line=1164'>1165</a>\u001b[0m     password\u001b[39m=\u001b[39;49m\u001b[39mFalse\u001b[39;49;00m,\n\u001b[0;32m   <a href='file:///c%3A/Users/eshan/.virtualenvs/bot-2z_5KoXr/lib/site-packages/ipykernel/kernelbase.py?line=1165'>1166</a>\u001b[0m )\n",
      "File \u001b[1;32mc:\\Users\\eshan\\.virtualenvs\\bot-2z_5KoXr\\lib\\site-packages\\ipykernel\\kernelbase.py:1205\u001b[0m, in \u001b[0;36mKernel._input_request\u001b[1;34m(self, prompt, ident, parent, password)\u001b[0m\n\u001b[0;32m   <a href='file:///c%3A/Users/eshan/.virtualenvs/bot-2z_5KoXr/lib/site-packages/ipykernel/kernelbase.py?line=1201'>1202</a>\u001b[0m             \u001b[39mbreak\u001b[39;00m\n\u001b[0;32m   <a href='file:///c%3A/Users/eshan/.virtualenvs/bot-2z_5KoXr/lib/site-packages/ipykernel/kernelbase.py?line=1202'>1203</a>\u001b[0m \u001b[39mexcept\u001b[39;00m \u001b[39mKeyboardInterrupt\u001b[39;00m:\n\u001b[0;32m   <a href='file:///c%3A/Users/eshan/.virtualenvs/bot-2z_5KoXr/lib/site-packages/ipykernel/kernelbase.py?line=1203'>1204</a>\u001b[0m     \u001b[39m# re-raise KeyboardInterrupt, to truncate traceback\u001b[39;00m\n\u001b[1;32m-> <a href='file:///c%3A/Users/eshan/.virtualenvs/bot-2z_5KoXr/lib/site-packages/ipykernel/kernelbase.py?line=1204'>1205</a>\u001b[0m     \u001b[39mraise\u001b[39;00m \u001b[39mKeyboardInterrupt\u001b[39;00m(\u001b[39m\"\u001b[39m\u001b[39mInterrupted by user\u001b[39m\u001b[39m\"\u001b[39m) \u001b[39mfrom\u001b[39;00m \u001b[39mNone\u001b[39m\n\u001b[0;32m   <a href='file:///c%3A/Users/eshan/.virtualenvs/bot-2z_5KoXr/lib/site-packages/ipykernel/kernelbase.py?line=1205'>1206</a>\u001b[0m \u001b[39mexcept\u001b[39;00m \u001b[39mException\u001b[39;00m:\n\u001b[0;32m   <a href='file:///c%3A/Users/eshan/.virtualenvs/bot-2z_5KoXr/lib/site-packages/ipykernel/kernelbase.py?line=1206'>1207</a>\u001b[0m     \u001b[39mself\u001b[39m\u001b[39m.\u001b[39mlog\u001b[39m.\u001b[39mwarning(\u001b[39m\"\u001b[39m\u001b[39mInvalid Message:\u001b[39m\u001b[39m\"\u001b[39m, exc_info\u001b[39m=\u001b[39m\u001b[39mTrue\u001b[39;00m)\n",
      "\u001b[1;31mKeyboardInterrupt\u001b[0m: Interrupted by user"
     ]
    }
   ],
   "source": [
    "while True:\n",
    "    customer_input = input(\"What is your question?\\n\")\n",
    "    resposne = None\n",
    "\n",
    "    for conversation in conversations:\n",
    "        if conversation[\"customer\"] == customer_input:\n",
    "            resposne = conversation[\"response\"]\n",
    "            break\n",
    "    if resposne is None:\n",
    "        print(\"Sorry, we don't have an answer for that.\")\n",
    "    else:\n",
    "        print(resposne)\n",
    "        break"
   ]
  },
  {
   "cell_type": "code",
   "execution_count": 4,
   "metadata": {},
   "outputs": [],
   "source": [
    "conversations = [\n",
    "    {\n",
    "        \"customer\": \"Hi there, what time do you open tomorrow for lunch?\",\n",
    "        \"tags\" : [\"opening\", \"time\", \"closing\", \"hours\"]\n",
    "    },\n",
    "    {\n",
    "        \"customer\": \"Can I speak to your Manager?\",\n",
    "        \"tags\": [\"contact\", \"manager\", \"customer\", \"service\", \"customer_support\"]\n",
    "    },\n",
    "    {\n",
    "        \"customer\": \"The food was amazing thanks!\",\n",
    "        \"tags\": [\"customer_support\", \"feedback\"]\n",
    "    },\n",
    "    {\n",
    "        \"customer\": \"What type of products do you have?\",\n",
    "        \"tags\": [\"products\", \"food\", \"menu\", \"inventory\"]\n",
    "    }\n",
    "]"
   ]
  },
  {
   "cell_type": "code",
   "execution_count": 5,
   "metadata": {},
   "outputs": [],
   "source": [
    "conversation_two = [\n",
    "    {\n",
    "        \"customer\": \"How late is your kitchen open?\",\n",
    "        \"tags\": [\"opening\", \"time\", \"closing\", \"hours\"]\n",
    "    },\n",
    "    {\n",
    "        \"customer\": \"My order was prepared incorrectly. How can I fix it?\",\n",
    "        \"tags\": [\"contact\", \"manager\", \"customer\", \"service\", \"customer_support\"]\n",
    "    },\n",
    "    {\n",
    "        \"customer\": \"What kind of meats do you have?\",\n",
    "        \"tags\": [\"products\", \"food\", \"menu\", \"inventory\"]\n",
    "    }\n",
    "]"
   ]
  },
  {
   "cell_type": "code",
   "execution_count": 6,
   "metadata": {},
   "outputs": [],
   "source": [
    "conversation_three = [\n",
    "    {\n",
    "        \"customer\": \"When does your Dining Room open?\",\n",
    "        \"tags\": [\"opening\", \"time\", \"closing\", \"hours\"]\n",
    "    },\n",
    "    {\n",
    "        \"customer\": \"When do you open for dinner?\",\n",
    "        \"tags\": [\"opening\", \"time\", \"closing\", \"hours\"]\n",
    "    },\n",
    "    {\n",
    "        \"customer\": \"How do i contact you?\",\n",
    "        \"tags\": [\"contact\", \"customer_support\"]\n",
    "    }\n",
    "]"
   ]
  },
  {
   "cell_type": "code",
   "execution_count": 7,
   "metadata": {},
   "outputs": [
    {
     "data": {
      "text/plain": [
       "[{'customer': 'Hi there, what time do you open tomorrow for lunch?',\n",
       "  'tags': ['opening', 'time', 'closing', 'hours']},\n",
       " {'customer': 'Can I speak to your Manager?',\n",
       "  'tags': ['contact', 'manager', 'customer', 'service', 'customer_support']},\n",
       " {'customer': 'The food was amazing thanks!',\n",
       "  'tags': ['customer_support', 'feedback']},\n",
       " {'customer': 'What type of products do you have?',\n",
       "  'tags': ['products', 'food', 'menu', 'inventory']},\n",
       " {'customer': 'How late is your kitchen open?',\n",
       "  'tags': ['opening', 'time', 'closing', 'hours']},\n",
       " {'customer': 'My order was prepared incorrectly. How can I fix it?',\n",
       "  'tags': ['contact', 'manager', 'customer', 'service', 'customer_support']},\n",
       " {'customer': 'What kind of meats do you have?',\n",
       "  'tags': ['products', 'food', 'menu', 'inventory']},\n",
       " {'customer': 'When does your Dining Room open?',\n",
       "  'tags': ['opening', 'time', 'closing', 'hours']},\n",
       " {'customer': 'When do you open for dinner?',\n",
       "  'tags': ['opening', 'time', 'closing', 'hours']},\n",
       " {'customer': 'How do i contact you?',\n",
       "  'tags': ['contact', 'customer_support']}]"
      ]
     },
     "execution_count": 7,
     "metadata": {},
     "output_type": "execute_result"
    }
   ],
   "source": [
    "dataset = conversations + conversation_two + conversation_three\n",
    "dataset"
   ]
  },
  {
   "cell_type": "code",
   "execution_count": 8,
   "metadata": {},
   "outputs": [
    {
     "data": {
      "text/plain": [
       "['Hi there, what time do you open tomorrow for lunch?',\n",
       " 'Can I speak to your Manager?',\n",
       " 'The food was amazing thanks!',\n",
       " 'What type of products do you have?',\n",
       " 'How late is your kitchen open?',\n",
       " 'My order was prepared incorrectly. How can I fix it?',\n",
       " 'What kind of meats do you have?',\n",
       " 'When does your Dining Room open?',\n",
       " 'When do you open for dinner?',\n",
       " 'How do i contact you?']"
      ]
     },
     "execution_count": 8,
     "metadata": {},
     "output_type": "execute_result"
    }
   ],
   "source": [
    "inputs = [x['customer'] for x in dataset]\n",
    "inputs"
   ]
  },
  {
   "cell_type": "code",
   "execution_count": 9,
   "metadata": {},
   "outputs": [
    {
     "data": {
      "text/plain": [
       "[['opening', 'time', 'closing', 'hours'],\n",
       " ['contact', 'manager', 'customer', 'service', 'customer_support'],\n",
       " ['customer_support', 'feedback'],\n",
       " ['products', 'food', 'menu', 'inventory'],\n",
       " ['opening', 'time', 'closing', 'hours'],\n",
       " ['contact', 'manager', 'customer', 'service', 'customer_support'],\n",
       " ['products', 'food', 'menu', 'inventory'],\n",
       " ['opening', 'time', 'closing', 'hours'],\n",
       " ['opening', 'time', 'closing', 'hours'],\n",
       " ['contact', 'customer_support']]"
      ]
     },
     "execution_count": 9,
     "metadata": {},
     "output_type": "execute_result"
    }
   ],
   "source": [
    "outputs = [x['tags'] for x in dataset]\n",
    "outputs"
   ]
  },
  {
   "cell_type": "code",
   "execution_count": 10,
   "metadata": {},
   "outputs": [],
   "source": [
    "assert(len(inputs) == len(outputs))"
   ]
  },
  {
   "cell_type": "code",
   "execution_count": 13,
   "metadata": {},
   "outputs": [
    {
     "name": "stdout",
     "output_type": "stream",
     "text": [
      "What type of products do you have? ['products', 'food', 'menu', 'inventory']\n",
      "{'customer': 'What type of products do you have?', 'tags': ['products', 'food', 'menu', 'inventory']}\n"
     ]
    }
   ],
   "source": [
    "idx = 3\n",
    "print(inputs[idx] ,outputs[idx])\n",
    "\n",
    "print(dataset[idx])"
   ]
  },
  {
   "cell_type": "code",
   "execution_count": 14,
   "metadata": {},
   "outputs": [],
   "source": [
    "from sklearn.feature_extraction.text import CountVectorizer\n",
    "\n",
    "vectorizer = CountVectorizer()\n",
    "\n",
    "x = vectorizer.fit_transform(inputs)"
   ]
  },
  {
   "cell_type": "code",
   "execution_count": 17,
   "metadata": {},
   "outputs": [
    {
     "data": {
      "text/plain": [
       "(10, 42)"
      ]
     },
     "execution_count": 17,
     "metadata": {},
     "output_type": "execute_result"
    }
   ],
   "source": [
    "x.toarray()\n",
    "x.shape"
   ]
  },
  {
   "cell_type": "code",
   "execution_count": 19,
   "metadata": {},
   "outputs": [
    {
     "data": {
      "text/plain": [
       "array(['amazing', 'can', 'contact', 'dining', 'dinner', 'do', 'does',\n",
       "       'fix', 'food', 'for', 'have', 'hi', 'how', 'incorrectly', 'is',\n",
       "       'it', 'kind', 'kitchen', 'late', 'lunch', 'manager', 'meats', 'my',\n",
       "       'of', 'open', 'order', 'prepared', 'products', 'room', 'speak',\n",
       "       'thanks', 'the', 'there', 'time', 'to', 'tomorrow', 'type', 'was',\n",
       "       'what', 'when', 'you', 'your'], dtype=object)"
      ]
     },
     "execution_count": 19,
     "metadata": {},
     "output_type": "execute_result"
    }
   ],
   "source": [
    "words = vectorizer.get_feature_names_out()\n",
    "words"
   ]
  },
  {
   "cell_type": "code",
   "execution_count": 20,
   "metadata": {},
   "outputs": [
    {
     "data": {
      "text/plain": [
       "42"
      ]
     },
     "execution_count": 20,
     "metadata": {},
     "output_type": "execute_result"
    }
   ],
   "source": [
    "len(words)"
   ]
  },
  {
   "cell_type": "code",
   "execution_count": 21,
   "metadata": {},
   "outputs": [],
   "source": [
    "from sklearn.preprocessing import MultiLabelBinarizer\n",
    "\n",
    "mlb = MultiLabelBinarizer()\n",
    "y = mlb.fit_transform(outputs)"
   ]
  },
  {
   "cell_type": "code",
   "execution_count": 22,
   "metadata": {},
   "outputs": [
    {
     "data": {
      "text/plain": [
       "array(['closing', 'contact', 'customer', 'customer_support', 'feedback',\n",
       "       'food', 'hours', 'inventory', 'manager', 'menu', 'opening',\n",
       "       'products', 'service', 'time'], dtype=object)"
      ]
     },
     "execution_count": 22,
     "metadata": {},
     "output_type": "execute_result"
    }
   ],
   "source": [
    "mlb.classes_"
   ]
  },
  {
   "cell_type": "markdown",
   "metadata": {},
   "source": [
    "# Training with Scikit-Learn"
   ]
  },
  {
   "cell_type": "code",
   "execution_count": 23,
   "metadata": {},
   "outputs": [],
   "source": [
    "from sklearn.multioutput import MultiOutputClassifier\n",
    "from sklearn.ensemble import RandomForestClassifier\n",
    "\n",
    "forest = RandomForestClassifier(random_state=1)\n",
    "model = MultiOutputClassifier(forest, n_jobs=-1)"
   ]
  },
  {
   "cell_type": "code",
   "execution_count": 24,
   "metadata": {},
   "outputs": [
    {
     "data": {
      "text/plain": [
       "MultiOutputClassifier(estimator=RandomForestClassifier(random_state=1),\n",
       "                      n_jobs=-1)"
      ]
     },
     "execution_count": 24,
     "metadata": {},
     "output_type": "execute_result"
    }
   ],
   "source": [
    "model.fit(x, y)"
   ]
  },
  {
   "cell_type": "code",
   "execution_count": 25,
   "metadata": {},
   "outputs": [
    {
     "data": {
      "text/plain": [
       "<1x42 sparse matrix of type '<class 'numpy.int64'>'\n",
       "\twith 5 stored elements in Compressed Sparse Row format>"
      ]
     },
     "execution_count": 25,
     "metadata": {},
     "output_type": "execute_result"
    }
   ],
   "source": [
    "txt = \"Hi, when do you open?\"\n",
    "\n",
    "input_vector = vectorizer.transform([txt])\n",
    "input_vector"
   ]
  },
  {
   "cell_type": "code",
   "execution_count": 26,
   "metadata": {},
   "outputs": [
    {
     "data": {
      "text/plain": [
       "array([[1, 0, 0, 0, 0, 0, 1, 0, 0, 0, 1, 0, 0, 1]])"
      ]
     },
     "execution_count": 26,
     "metadata": {},
     "output_type": "execute_result"
    }
   ],
   "source": [
    "output_vector = model.predict(input_vector)\n",
    "output_vector"
   ]
  },
  {
   "cell_type": "code",
   "execution_count": 28,
   "metadata": {},
   "outputs": [],
   "source": [
    "pred = {}\n",
    "classes = mlb.classes_\n",
    "for i, val in enumerate(output_vector[0]):\n",
    "    pred[classes[i]] = val"
   ]
  },
  {
   "cell_type": "code",
   "execution_count": 29,
   "metadata": {},
   "outputs": [
    {
     "data": {
      "text/plain": [
       "{'closing': 1,\n",
       " 'contact': 0,\n",
       " 'customer': 0,\n",
       " 'customer_support': 0,\n",
       " 'feedback': 0,\n",
       " 'food': 0,\n",
       " 'hours': 1,\n",
       " 'inventory': 0,\n",
       " 'manager': 0,\n",
       " 'menu': 0,\n",
       " 'opening': 1,\n",
       " 'products': 0,\n",
       " 'service': 0,\n",
       " 'time': 1}"
      ]
     },
     "execution_count": 29,
     "metadata": {},
     "output_type": "execute_result"
    }
   ],
   "source": [
    "pred"
   ]
  },
  {
   "cell_type": "code",
   "execution_count": 31,
   "metadata": {},
   "outputs": [],
   "source": [
    "def my_prediction(txt=\"Hello World\"):\n",
    "    input_vector = vectorizer.transform([txt])\n",
    "    output_vector = model.predict(input_vector)\n",
    "\n",
    "    pred = {}\n",
    "    classes = mlb.classes_\n",
    "    for i, val in enumerate(output_vector[0]):\n",
    "        pred[classes[i]] = val\n",
    "    \n",
    "    return pred"
   ]
  },
  {
   "cell_type": "code",
   "execution_count": 32,
   "metadata": {},
   "outputs": [
    {
     "data": {
      "text/plain": [
       "{'closing': 1,\n",
       " 'contact': 0,\n",
       " 'customer': 0,\n",
       " 'customer_support': 0,\n",
       " 'feedback': 0,\n",
       " 'food': 0,\n",
       " 'hours': 1,\n",
       " 'inventory': 0,\n",
       " 'manager': 0,\n",
       " 'menu': 0,\n",
       " 'opening': 1,\n",
       " 'products': 0,\n",
       " 'service': 0,\n",
       " 'time': 1}"
      ]
     },
     "execution_count": 32,
     "metadata": {},
     "output_type": "execute_result"
    }
   ],
   "source": [
    "my_prediction(\"Hi, when do you open?\")"
   ]
  },
  {
   "cell_type": "code",
   "execution_count": 34,
   "metadata": {},
   "outputs": [
    {
     "data": {
      "text/plain": [
       "{'classes': ['closing',\n",
       "  'contact',\n",
       "  'customer',\n",
       "  'customer_support',\n",
       "  'feedback',\n",
       "  'food',\n",
       "  'hours',\n",
       "  'inventory',\n",
       "  'manager',\n",
       "  'menu',\n",
       "  'opening',\n",
       "  'products',\n",
       "  'service',\n",
       "  'time'],\n",
       " 'model': MultiOutputClassifier(estimator=RandomForestClassifier(random_state=1),\n",
       "                       n_jobs=-1),\n",
       " 'vectorizer': CountVectorizer()}"
      ]
     },
     "execution_count": 34,
     "metadata": {},
     "output_type": "execute_result"
    }
   ],
   "source": [
    "import pickle\n",
    "\n",
    "model_data = {\n",
    "    \"classes\": list(mlb.classes_),\n",
    "    \"model\": model,\n",
    "    \"vectorizer\": vectorizer\n",
    "}\n",
    "\n",
    "model_data"
   ]
  },
  {
   "cell_type": "code",
   "execution_count": 36,
   "metadata": {},
   "outputs": [],
   "source": [
    "with open(\"Models/model_data.pkl\", \"wb\") as f:\n",
    "    pickle.dump(model_data, f)"
   ]
  },
  {
   "cell_type": "code",
   "execution_count": 40,
   "metadata": {},
   "outputs": [],
   "source": [
    "model_loaded_data = {}\n",
    "\n",
    "with open(\"Models/model_data.pkl\", \"rb\") as f:\n",
    "    model_loaded_data = pickle.loads(f.read())\n",
    "\n",
    "\n",
    "\n",
    "def lable_predictor_from_export(txt=\"Hello World\", vectorizer=None, model=None, classes=[]):\n",
    "\n",
    "    assert(vectorizer is not None)\n",
    "    assert(model is not None)\n",
    "\n",
    "    input_vector = vectorizer.transform([txt])\n",
    "    output_vector = model.predict(input_vector)\n",
    "    assert(len(output_vector[0]) == len(classes))\n",
    "\n",
    "    pred = {}\n",
    "    classes = mlb.classes_\n",
    "    for i, val in enumerate(output_vector[0]):\n",
    "        pred[classes[i]] = val\n",
    "    \n",
    "    return pred"
   ]
  },
  {
   "cell_type": "code",
   "execution_count": 41,
   "metadata": {},
   "outputs": [
    {
     "data": {
      "text/plain": [
       "{'closing': 1,\n",
       " 'contact': 0,\n",
       " 'customer': 0,\n",
       " 'customer_support': 0,\n",
       " 'feedback': 0,\n",
       " 'food': 0,\n",
       " 'hours': 1,\n",
       " 'inventory': 0,\n",
       " 'manager': 0,\n",
       " 'menu': 0,\n",
       " 'opening': 1,\n",
       " 'products': 0,\n",
       " 'service': 0,\n",
       " 'time': 1}"
      ]
     },
     "execution_count": 41,
     "metadata": {},
     "output_type": "execute_result"
    }
   ],
   "source": [
    "lable_predictor_from_export(\"How late is your kitchen open?\", \n",
    "                vectorizer=model_loaded_data[\"vectorizer\"],\n",
    "                model=model_loaded_data[\"model\"], \n",
    "                classes=model_loaded_data[\"classes\"]\n",
    "                )"
   ]
  },
  {
   "cell_type": "markdown",
   "metadata": {},
   "source": [
    "## Re-training New data"
   ]
  },
  {
   "cell_type": "code",
   "execution_count": 42,
   "metadata": {},
   "outputs": [],
   "source": [
    "from sklearn.feature_extraction.text import CountVectorizer\n",
    "from sklearn.preprocessing import MultiLabelBinarizer\n",
    "from sklearn.multioutput import MultiOutputClassifier\n",
    "from sklearn.ensemble import RandomForestClassifier\n",
    "import pickle\n",
    "\n",
    "def train(dataset, tarin_col='customers', lable_cols='tags', export_path=\"Models/model.pkl\"):\n",
    "    inputs = [x['customer'] for x in dataset]\n",
    "    outputs = [x['tags'] for x in dataset]\n",
    "    assert(len(inputs) == len(outputs))\n",
    "    \n",
    "    mlb = MultiLabelBinarizer()\n",
    "    vectorizer = CountVectorizer()\n",
    "    \n",
    "    x = vectorizer.fit_transform(inputs)\n",
    "    y = mlb.fit_transform(outputs)\n",
    "    \n",
    "    classes = mlb.classes_\n",
    "    \n",
    "    forest = RandomForestClassifier(random_state=1)\n",
    "    \n",
    "    model = MultiOutputClassifier(forest, n_jobs=-1)\n",
    "    model.fit(x, y)\n",
    "\n",
    "    model_data = {\n",
    "        \"classes\": list(mlb.classes_),\n",
    "        \"model\": model,\n",
    "        \"vectorizer\": vectorizer\n",
    "    }\n",
    "\n",
    "    with open(export_path, \"wb\") as f:\n",
    "        pickle.dump(model_data, f)\n",
    "    \n",
    "    return export_path"
   ]
  },
  {
   "cell_type": "code",
   "execution_count": null,
   "metadata": {},
   "outputs": [],
   "source": [
    "dataset.append(\n",
    "    {\n",
    "        \"customer\": \"When does the kitchen close?\",\n",
    "        \"tags\": [\"opening\", \"time\", \"closing\", \"hours\"]\n",
    "    })\n",
    "\n",
    "dataset.append(\n",
    "    {\n",
    "        \"customer\": \"When do you open for dinner?\",\n",
    "        \"tags\": [\"opening\", \"time\", \"closing\", \"hours\"]\n",
    "    }\n",
    ")"
   ]
  },
  {
   "cell_type": "code",
   "execution_count": 44,
   "metadata": {},
   "outputs": [
    {
     "data": {
      "text/plain": [
       "'Models/model2.pkl'"
      ]
     },
     "execution_count": 44,
     "metadata": {},
     "output_type": "execute_result"
    }
   ],
   "source": [
    "train(dataset, export_path=\"Models/model2.pkl\")"
   ]
  },
  {
   "cell_type": "code",
   "execution_count": 45,
   "metadata": {},
   "outputs": [
    {
     "data": {
      "text/plain": [
       "{'closing': 1,\n",
       " 'contact': 0,\n",
       " 'customer': 0,\n",
       " 'customer_support': 0,\n",
       " 'feedback': 0,\n",
       " 'food': 0,\n",
       " 'hours': 1,\n",
       " 'inventory': 0,\n",
       " 'manager': 0,\n",
       " 'menu': 0,\n",
       " 'opening': 1,\n",
       " 'products': 0,\n",
       " 'service': 0,\n",
       " 'time': 1}"
      ]
     },
     "execution_count": 45,
     "metadata": {},
     "output_type": "execute_result"
    }
   ],
   "source": [
    "model_loaded_data = {}\n",
    "\n",
    "with open(\"Models/model2.pkl\", \"rb\") as f:\n",
    "    model_loaded_data = pickle.loads(f.read())\n",
    "\n",
    "lable_predictor_from_export(\"Hi, when do you open?\", **model_loaded_data)"
   ]
  },
  {
   "cell_type": "code",
   "execution_count": 46,
   "metadata": {},
   "outputs": [],
   "source": [
    "import pandas as pd"
   ]
  },
  {
   "cell_type": "code",
   "execution_count": 48,
   "metadata": {},
   "outputs": [
    {
     "data": {
      "text/html": [
       "<div>\n",
       "<style scoped>\n",
       "    .dataframe tbody tr th:only-of-type {\n",
       "        vertical-align: middle;\n",
       "    }\n",
       "\n",
       "    .dataframe tbody tr th {\n",
       "        vertical-align: top;\n",
       "    }\n",
       "\n",
       "    .dataframe thead th {\n",
       "        text-align: right;\n",
       "    }\n",
       "</style>\n",
       "<table border=\"1\" class=\"dataframe\">\n",
       "  <thead>\n",
       "    <tr style=\"text-align: right;\">\n",
       "      <th></th>\n",
       "      <th>customer</th>\n",
       "      <th>tags</th>\n",
       "    </tr>\n",
       "  </thead>\n",
       "  <tbody>\n",
       "    <tr>\n",
       "      <th>0</th>\n",
       "      <td>Hi there, what time do you open tomorrow for l...</td>\n",
       "      <td>[opening, time, closing, hours]</td>\n",
       "    </tr>\n",
       "    <tr>\n",
       "      <th>1</th>\n",
       "      <td>Can I speak to your Manager?</td>\n",
       "      <td>[contact, manager, customer, service, customer...</td>\n",
       "    </tr>\n",
       "    <tr>\n",
       "      <th>2</th>\n",
       "      <td>The food was amazing thanks!</td>\n",
       "      <td>[customer_support, feedback]</td>\n",
       "    </tr>\n",
       "    <tr>\n",
       "      <th>3</th>\n",
       "      <td>What type of products do you have?</td>\n",
       "      <td>[products, food, menu, inventory]</td>\n",
       "    </tr>\n",
       "    <tr>\n",
       "      <th>4</th>\n",
       "      <td>How late is your kitchen open?</td>\n",
       "      <td>[opening, time, closing, hours]</td>\n",
       "    </tr>\n",
       "    <tr>\n",
       "      <th>5</th>\n",
       "      <td>My order was prepared incorrectly. How can I f...</td>\n",
       "      <td>[contact, manager, customer, service, customer...</td>\n",
       "    </tr>\n",
       "    <tr>\n",
       "      <th>6</th>\n",
       "      <td>What kind of meats do you have?</td>\n",
       "      <td>[products, food, menu, inventory]</td>\n",
       "    </tr>\n",
       "    <tr>\n",
       "      <th>7</th>\n",
       "      <td>When does your Dining Room open?</td>\n",
       "      <td>[opening, time, closing, hours]</td>\n",
       "    </tr>\n",
       "    <tr>\n",
       "      <th>8</th>\n",
       "      <td>When do you open for dinner?</td>\n",
       "      <td>[opening, time, closing, hours]</td>\n",
       "    </tr>\n",
       "    <tr>\n",
       "      <th>9</th>\n",
       "      <td>How do i contact you?</td>\n",
       "      <td>[contact, customer_support]</td>\n",
       "    </tr>\n",
       "  </tbody>\n",
       "</table>\n",
       "</div>"
      ],
      "text/plain": [
       "                                            customer  \\\n",
       "0  Hi there, what time do you open tomorrow for l...   \n",
       "1                       Can I speak to your Manager?   \n",
       "2                       The food was amazing thanks!   \n",
       "3                 What type of products do you have?   \n",
       "4                     How late is your kitchen open?   \n",
       "5  My order was prepared incorrectly. How can I f...   \n",
       "6                    What kind of meats do you have?   \n",
       "7                   When does your Dining Room open?   \n",
       "8                       When do you open for dinner?   \n",
       "9                              How do i contact you?   \n",
       "\n",
       "                                                tags  \n",
       "0                    [opening, time, closing, hours]  \n",
       "1  [contact, manager, customer, service, customer...  \n",
       "2                       [customer_support, feedback]  \n",
       "3                  [products, food, menu, inventory]  \n",
       "4                    [opening, time, closing, hours]  \n",
       "5  [contact, manager, customer, service, customer...  \n",
       "6                  [products, food, menu, inventory]  \n",
       "7                    [opening, time, closing, hours]  \n",
       "8                    [opening, time, closing, hours]  \n",
       "9                        [contact, customer_support]  "
      ]
     },
     "execution_count": 48,
     "metadata": {},
     "output_type": "execute_result"
    }
   ],
   "source": [
    "df = pd.DataFrame(dataset)\n",
    "df.head(n=100)"
   ]
  },
  {
   "cell_type": "code",
   "execution_count": 49,
   "metadata": {},
   "outputs": [],
   "source": [
    "df.to_pickle(\"dataset.pkl\")"
   ]
  },
  {
   "cell_type": "code",
   "execution_count": 51,
   "metadata": {},
   "outputs": [
    {
     "data": {
      "text/html": [
       "<div>\n",
       "<style scoped>\n",
       "    .dataframe tbody tr th:only-of-type {\n",
       "        vertical-align: middle;\n",
       "    }\n",
       "\n",
       "    .dataframe tbody tr th {\n",
       "        vertical-align: top;\n",
       "    }\n",
       "\n",
       "    .dataframe thead th {\n",
       "        text-align: right;\n",
       "    }\n",
       "</style>\n",
       "<table border=\"1\" class=\"dataframe\">\n",
       "  <thead>\n",
       "    <tr style=\"text-align: right;\">\n",
       "      <th></th>\n",
       "      <th>customer</th>\n",
       "      <th>tags</th>\n",
       "    </tr>\n",
       "  </thead>\n",
       "  <tbody>\n",
       "    <tr>\n",
       "      <th>0</th>\n",
       "      <td>Hi there, what time do you open tomorrow for l...</td>\n",
       "      <td>[opening, time, closing, hours]</td>\n",
       "    </tr>\n",
       "    <tr>\n",
       "      <th>1</th>\n",
       "      <td>Can I speak to your Manager?</td>\n",
       "      <td>[contact, manager, customer, service, customer...</td>\n",
       "    </tr>\n",
       "    <tr>\n",
       "      <th>2</th>\n",
       "      <td>The food was amazing thanks!</td>\n",
       "      <td>[customer_support, feedback]</td>\n",
       "    </tr>\n",
       "    <tr>\n",
       "      <th>3</th>\n",
       "      <td>What type of products do you have?</td>\n",
       "      <td>[products, food, menu, inventory]</td>\n",
       "    </tr>\n",
       "    <tr>\n",
       "      <th>4</th>\n",
       "      <td>How late is your kitchen open?</td>\n",
       "      <td>[opening, time, closing, hours]</td>\n",
       "    </tr>\n",
       "    <tr>\n",
       "      <th>5</th>\n",
       "      <td>My order was prepared incorrectly. How can I f...</td>\n",
       "      <td>[contact, manager, customer, service, customer...</td>\n",
       "    </tr>\n",
       "    <tr>\n",
       "      <th>6</th>\n",
       "      <td>What kind of meats do you have?</td>\n",
       "      <td>[products, food, menu, inventory]</td>\n",
       "    </tr>\n",
       "    <tr>\n",
       "      <th>7</th>\n",
       "      <td>When does your Dining Room open?</td>\n",
       "      <td>[opening, time, closing, hours]</td>\n",
       "    </tr>\n",
       "    <tr>\n",
       "      <th>8</th>\n",
       "      <td>When do you open for dinner?</td>\n",
       "      <td>[opening, time, closing, hours]</td>\n",
       "    </tr>\n",
       "    <tr>\n",
       "      <th>9</th>\n",
       "      <td>How do i contact you?</td>\n",
       "      <td>[contact, customer_support]</td>\n",
       "    </tr>\n",
       "  </tbody>\n",
       "</table>\n",
       "</div>"
      ],
      "text/plain": [
       "                                            customer  \\\n",
       "0  Hi there, what time do you open tomorrow for l...   \n",
       "1                       Can I speak to your Manager?   \n",
       "2                       The food was amazing thanks!   \n",
       "3                 What type of products do you have?   \n",
       "4                     How late is your kitchen open?   \n",
       "5  My order was prepared incorrectly. How can I f...   \n",
       "6                    What kind of meats do you have?   \n",
       "7                   When does your Dining Room open?   \n",
       "8                       When do you open for dinner?   \n",
       "9                              How do i contact you?   \n",
       "\n",
       "                                                tags  \n",
       "0                    [opening, time, closing, hours]  \n",
       "1  [contact, manager, customer, service, customer...  \n",
       "2                       [customer_support, feedback]  \n",
       "3                  [products, food, menu, inventory]  \n",
       "4                    [opening, time, closing, hours]  \n",
       "5  [contact, manager, customer, service, customer...  \n",
       "6                  [products, food, menu, inventory]  \n",
       "7                    [opening, time, closing, hours]  \n",
       "8                    [opening, time, closing, hours]  \n",
       "9                        [contact, customer_support]  "
      ]
     },
     "execution_count": 51,
     "metadata": {},
     "output_type": "execute_result"
    }
   ],
   "source": [
    "df = pd.read_pickle(\"dataset.pkl\")\n",
    "df"
   ]
  },
  {
   "cell_type": "code",
   "execution_count": 52,
   "metadata": {},
   "outputs": [
    {
     "data": {
      "text/plain": [
       "[{'customer': 'Hi there, what time do you open tomorrow for lunch?',\n",
       "  'tags': ['opening', 'time', 'closing', 'hours']},\n",
       " {'customer': 'Can I speak to your Manager?',\n",
       "  'tags': ['contact', 'manager', 'customer', 'service', 'customer_support']},\n",
       " {'customer': 'The food was amazing thanks!',\n",
       "  'tags': ['customer_support', 'feedback']},\n",
       " {'customer': 'What type of products do you have?',\n",
       "  'tags': ['products', 'food', 'menu', 'inventory']},\n",
       " {'customer': 'How late is your kitchen open?',\n",
       "  'tags': ['opening', 'time', 'closing', 'hours']},\n",
       " {'customer': 'My order was prepared incorrectly. How can I fix it?',\n",
       "  'tags': ['contact', 'manager', 'customer', 'service', 'customer_support']},\n",
       " {'customer': 'What kind of meats do you have?',\n",
       "  'tags': ['products', 'food', 'menu', 'inventory']},\n",
       " {'customer': 'When does your Dining Room open?',\n",
       "  'tags': ['opening', 'time', 'closing', 'hours']},\n",
       " {'customer': 'When do you open for dinner?',\n",
       "  'tags': ['opening', 'time', 'closing', 'hours']},\n",
       " {'customer': 'How do i contact you?',\n",
       "  'tags': ['contact', 'customer_support']}]"
      ]
     },
     "execution_count": 52,
     "metadata": {},
     "output_type": "execute_result"
    }
   ],
   "source": [
    "new_dataset = df.to_dict(\"records\")\n",
    "new_dataset"
   ]
  },
  {
   "cell_type": "markdown",
   "metadata": {},
   "source": [
    "## Adding to the dataset"
   ]
  },
  {
   "cell_type": "code",
   "execution_count": 56,
   "metadata": {},
   "outputs": [
    {
     "name": "stderr",
     "output_type": "stream",
     "text": [
      "C:\\Users\\eshan\\AppData\\Local\\Temp\\ipykernel_4260\\3364069687.py:1: FutureWarning: The frame.append method is deprecated and will be removed from pandas in a future version. Use pandas.concat instead.\n",
      "  df = df.append({\"customer\": \"Who is the manager?\", \"tags\": [\"manager\", \"contact\", \"customer_support\"]}, ignore_index=True)\n"
     ]
    }
   ],
   "source": [
    "df = df.append({\"customer\": \"Who is the manager?\", \"tags\": [\"manager\", \"contact\", \"customer_support\"]}, ignore_index=True)"
   ]
  },
  {
   "cell_type": "code",
   "execution_count": 57,
   "metadata": {},
   "outputs": [],
   "source": [
    "def append_to_dataset(df):\n",
    "    customer_input = input(\"What is your question? \\n\")\n",
    "    tags_input = input(\"What are the tags? \\n\")\n",
    "    if tags_input == \"\" or tags_input is not None:\n",
    "        tags_input = tags_input.split(\",\")\n",
    "\n",
    "    if customer_input != \"\" and tags_input != \"\" or customer_input is not None or tags_input is not None:\n",
    "        df = df.append({\"customer\": customer_input, \"tags\": tags_input}, ignore_index=True)\n",
    "    \n",
    "    return df"
   ]
  },
  {
   "cell_type": "code",
   "execution_count": 58,
   "metadata": {},
   "outputs": [
    {
     "ename": "KeyboardInterrupt",
     "evalue": "Interrupted by user",
     "output_type": "error",
     "traceback": [
      "\u001b[1;31m---------------------------------------------------------------------------\u001b[0m",
      "\u001b[1;31mKeyboardInterrupt\u001b[0m                         Traceback (most recent call last)",
      "\u001b[1;32me:\\github\\bot\\Notebooks\\Notebook 1.ipynb Cell 43'\u001b[0m in \u001b[0;36m<cell line: 1>\u001b[1;34m()\u001b[0m\n\u001b[1;32m----> <a href='vscode-notebook-cell:/e%3A/github/bot/Notebooks/Notebook%201.ipynb#ch0000042?line=0'>1</a>\u001b[0m new_df \u001b[39m=\u001b[39m append_to_dataset(df)\n",
      "\u001b[1;32me:\\github\\bot\\Notebooks\\Notebook 1.ipynb Cell 42'\u001b[0m in \u001b[0;36mappend_to_dataset\u001b[1;34m(df)\u001b[0m\n\u001b[0;32m      <a href='vscode-notebook-cell:/e%3A/github/bot/Notebooks/Notebook%201.ipynb#ch0000041?line=0'>1</a>\u001b[0m \u001b[39mdef\u001b[39;00m \u001b[39mappend_to_dataset\u001b[39m(df):\n\u001b[1;32m----> <a href='vscode-notebook-cell:/e%3A/github/bot/Notebooks/Notebook%201.ipynb#ch0000041?line=1'>2</a>\u001b[0m     customer_input \u001b[39m=\u001b[39m \u001b[39minput\u001b[39;49m(\u001b[39m\"\u001b[39;49m\u001b[39mWhat is your question? \u001b[39;49m\u001b[39m\\n\u001b[39;49;00m\u001b[39m\"\u001b[39;49m)\n\u001b[0;32m      <a href='vscode-notebook-cell:/e%3A/github/bot/Notebooks/Notebook%201.ipynb#ch0000041?line=2'>3</a>\u001b[0m     tags_input \u001b[39m=\u001b[39m \u001b[39minput\u001b[39m(\u001b[39m\"\u001b[39m\u001b[39mWhat are the tags? \u001b[39m\u001b[39m\\n\u001b[39;00m\u001b[39m\"\u001b[39m)\n\u001b[0;32m      <a href='vscode-notebook-cell:/e%3A/github/bot/Notebooks/Notebook%201.ipynb#ch0000041?line=3'>4</a>\u001b[0m     \u001b[39mif\u001b[39;00m tags_input \u001b[39m==\u001b[39m \u001b[39m\"\u001b[39m\u001b[39m\"\u001b[39m \u001b[39mor\u001b[39;00m tags_input \u001b[39mis\u001b[39;00m \u001b[39mnot\u001b[39;00m \u001b[39mNone\u001b[39;00m:\n",
      "File \u001b[1;32mc:\\Users\\eshan\\.virtualenvs\\bot-2z_5KoXr\\lib\\site-packages\\ipykernel\\kernelbase.py:1161\u001b[0m, in \u001b[0;36mKernel.raw_input\u001b[1;34m(self, prompt)\u001b[0m\n\u001b[0;32m   <a href='file:///c%3A/Users/eshan/.virtualenvs/bot-2z_5KoXr/lib/site-packages/ipykernel/kernelbase.py?line=1156'>1157</a>\u001b[0m \u001b[39mif\u001b[39;00m \u001b[39mnot\u001b[39;00m \u001b[39mself\u001b[39m\u001b[39m.\u001b[39m_allow_stdin:\n\u001b[0;32m   <a href='file:///c%3A/Users/eshan/.virtualenvs/bot-2z_5KoXr/lib/site-packages/ipykernel/kernelbase.py?line=1157'>1158</a>\u001b[0m     \u001b[39mraise\u001b[39;00m StdinNotImplementedError(\n\u001b[0;32m   <a href='file:///c%3A/Users/eshan/.virtualenvs/bot-2z_5KoXr/lib/site-packages/ipykernel/kernelbase.py?line=1158'>1159</a>\u001b[0m         \u001b[39m\"\u001b[39m\u001b[39mraw_input was called, but this frontend does not support input requests.\u001b[39m\u001b[39m\"\u001b[39m\n\u001b[0;32m   <a href='file:///c%3A/Users/eshan/.virtualenvs/bot-2z_5KoXr/lib/site-packages/ipykernel/kernelbase.py?line=1159'>1160</a>\u001b[0m     )\n\u001b[1;32m-> <a href='file:///c%3A/Users/eshan/.virtualenvs/bot-2z_5KoXr/lib/site-packages/ipykernel/kernelbase.py?line=1160'>1161</a>\u001b[0m \u001b[39mreturn\u001b[39;00m \u001b[39mself\u001b[39;49m\u001b[39m.\u001b[39;49m_input_request(\n\u001b[0;32m   <a href='file:///c%3A/Users/eshan/.virtualenvs/bot-2z_5KoXr/lib/site-packages/ipykernel/kernelbase.py?line=1161'>1162</a>\u001b[0m     \u001b[39mstr\u001b[39;49m(prompt),\n\u001b[0;32m   <a href='file:///c%3A/Users/eshan/.virtualenvs/bot-2z_5KoXr/lib/site-packages/ipykernel/kernelbase.py?line=1162'>1163</a>\u001b[0m     \u001b[39mself\u001b[39;49m\u001b[39m.\u001b[39;49m_parent_ident[\u001b[39m\"\u001b[39;49m\u001b[39mshell\u001b[39;49m\u001b[39m\"\u001b[39;49m],\n\u001b[0;32m   <a href='file:///c%3A/Users/eshan/.virtualenvs/bot-2z_5KoXr/lib/site-packages/ipykernel/kernelbase.py?line=1163'>1164</a>\u001b[0m     \u001b[39mself\u001b[39;49m\u001b[39m.\u001b[39;49mget_parent(\u001b[39m\"\u001b[39;49m\u001b[39mshell\u001b[39;49m\u001b[39m\"\u001b[39;49m),\n\u001b[0;32m   <a href='file:///c%3A/Users/eshan/.virtualenvs/bot-2z_5KoXr/lib/site-packages/ipykernel/kernelbase.py?line=1164'>1165</a>\u001b[0m     password\u001b[39m=\u001b[39;49m\u001b[39mFalse\u001b[39;49;00m,\n\u001b[0;32m   <a href='file:///c%3A/Users/eshan/.virtualenvs/bot-2z_5KoXr/lib/site-packages/ipykernel/kernelbase.py?line=1165'>1166</a>\u001b[0m )\n",
      "File \u001b[1;32mc:\\Users\\eshan\\.virtualenvs\\bot-2z_5KoXr\\lib\\site-packages\\ipykernel\\kernelbase.py:1205\u001b[0m, in \u001b[0;36mKernel._input_request\u001b[1;34m(self, prompt, ident, parent, password)\u001b[0m\n\u001b[0;32m   <a href='file:///c%3A/Users/eshan/.virtualenvs/bot-2z_5KoXr/lib/site-packages/ipykernel/kernelbase.py?line=1201'>1202</a>\u001b[0m             \u001b[39mbreak\u001b[39;00m\n\u001b[0;32m   <a href='file:///c%3A/Users/eshan/.virtualenvs/bot-2z_5KoXr/lib/site-packages/ipykernel/kernelbase.py?line=1202'>1203</a>\u001b[0m \u001b[39mexcept\u001b[39;00m \u001b[39mKeyboardInterrupt\u001b[39;00m:\n\u001b[0;32m   <a href='file:///c%3A/Users/eshan/.virtualenvs/bot-2z_5KoXr/lib/site-packages/ipykernel/kernelbase.py?line=1203'>1204</a>\u001b[0m     \u001b[39m# re-raise KeyboardInterrupt, to truncate traceback\u001b[39;00m\n\u001b[1;32m-> <a href='file:///c%3A/Users/eshan/.virtualenvs/bot-2z_5KoXr/lib/site-packages/ipykernel/kernelbase.py?line=1204'>1205</a>\u001b[0m     \u001b[39mraise\u001b[39;00m \u001b[39mKeyboardInterrupt\u001b[39;00m(\u001b[39m\"\u001b[39m\u001b[39mInterrupted by user\u001b[39m\u001b[39m\"\u001b[39m) \u001b[39mfrom\u001b[39;00m \u001b[39mNone\u001b[39m\n\u001b[0;32m   <a href='file:///c%3A/Users/eshan/.virtualenvs/bot-2z_5KoXr/lib/site-packages/ipykernel/kernelbase.py?line=1205'>1206</a>\u001b[0m \u001b[39mexcept\u001b[39;00m \u001b[39mException\u001b[39;00m:\n\u001b[0;32m   <a href='file:///c%3A/Users/eshan/.virtualenvs/bot-2z_5KoXr/lib/site-packages/ipykernel/kernelbase.py?line=1206'>1207</a>\u001b[0m     \u001b[39mself\u001b[39m\u001b[39m.\u001b[39mlog\u001b[39m.\u001b[39mwarning(\u001b[39m\"\u001b[39m\u001b[39mInvalid Message:\u001b[39m\u001b[39m\"\u001b[39m, exc_info\u001b[39m=\u001b[39m\u001b[39mTrue\u001b[39;00m)\n",
      "\u001b[1;31mKeyboardInterrupt\u001b[0m: Interrupted by user"
     ]
    }
   ],
   "source": [
    "new_df = append_to_dataset(df);"
   ]
  },
  {
   "cell_type": "markdown",
   "metadata": {},
   "source": [
    "## REST API\n",
    "\n",
    "with fastapi"
   ]
  },
  {
   "cell_type": "code",
   "execution_count": 61,
   "metadata": {},
   "outputs": [],
   "source": [
    "API_APP_PATH = \"src/app.py\""
   ]
  },
  {
   "cell_type": "code",
   "execution_count": 75,
   "metadata": {},
   "outputs": [
    {
     "name": "stdout",
     "output_type": "stream",
     "text": [
      "Overwriting src/app.py\n"
     ]
    }
   ],
   "source": [
    "%%writefile $API_APP_PATH\n",
    "\n",
    "from fastapi import FastAPI\n",
    "import pickle\n",
    "\n",
    "app = FastAPI()\n",
    "\n",
    "model_loaded_data = {}\n",
    "\n",
    "with open(\"../Models/model2.pkl\", \"rb\") as f:\n",
    "    model_loaded_data = pickle.loads(f.read())\n",
    "\n",
    "class CustomerInput(BaseModel):\n",
    "    customer: str\n",
    "    tags: list[str] = []\n",
    "\n",
    "def lable_predictor_from_export(txt=\"Hello World\", vectorizer=None, model=None, classes=[]):\n",
    "\n",
    "    assert(vectorizer is not None)\n",
    "    assert(model is not None)\n",
    "\n",
    "    input_vector = vectorizer.transform([txt])\n",
    "    output_vector = model.predict(input_vector)\n",
    "    assert(len(output_vector[0]) == len(classes))\n",
    "\n",
    "    pred = {}\n",
    "    for i, val in enumerate(output_vector[0]):\n",
    "        pred[classes[i]] = int(val)\n",
    "    \n",
    "    return pred\n",
    "\n",
    "@app.post(\"/\")\n",
    "\n",
    "def homepage_new():\n",
    "    pred = lable_predictor_from_export(CustomerInput.customer, **model_loaded_data)\n",
    "    return pred\n",
    "\n",
    "\n"
   ]
  },
  {
   "cell_type": "code",
   "execution_count": 79,
   "metadata": {},
   "outputs": [],
   "source": [
    "import requests\n",
    "\n",
    "json = {\n",
    "    \"customer\": \"Something New\"\n",
    "}\n",
    "\n",
    "r = requests.post(\"http://127.0.0.1:8000/\", json=json)"
   ]
  },
  {
   "cell_type": "code",
   "execution_count": 80,
   "metadata": {},
   "outputs": [
    {
     "data": {
      "text/plain": [
       "{'closing': 0,\n",
       " 'contact': 0,\n",
       " 'customer': 0,\n",
       " 'customer_support': 0,\n",
       " 'feedback': 0,\n",
       " 'food': 0,\n",
       " 'hours': 0,\n",
       " 'inventory': 0,\n",
       " 'manager': 0,\n",
       " 'menu': 0,\n",
       " 'opening': 0,\n",
       " 'products': 0,\n",
       " 'service': 0,\n",
       " 'time': 0}"
      ]
     },
     "execution_count": 80,
     "metadata": {},
     "output_type": "execute_result"
    }
   ],
   "source": [
    "r.json()"
   ]
  },
  {
   "cell_type": "code",
   "execution_count": 81,
   "metadata": {},
   "outputs": [],
   "source": [
    "bot_responses = [\n",
    "    {\n",
    "    'responses': [\n",
    "        \"We opened at 7:00 and closed at 10:00\",\n",
    "        \"From 7:00 to 10:00\",\n",
    "        \"We are open from 7:00 to 10:00\",\n",
    "    ],\n",
    "    \"tags\" : [\"hours\", \"opening\", \"time\", \"closing\"]\n",
    "    },\n",
    "    {\n",
    "        'responses': [\"tacos and Burgers\", \"Pizza\"],\n",
    "        \"tags\": [\"menu\", \"food\"]\n",
    "    },\n",
    "]"
   ]
  },
  {
   "cell_type": "code",
   "execution_count": 82,
   "metadata": {},
   "outputs": [],
   "source": [
    "bot_df = pd.DataFrame(bot_responses)"
   ]
  },
  {
   "cell_type": "code",
   "execution_count": 83,
   "metadata": {},
   "outputs": [],
   "source": [
    "pred_response = {\n",
    "    \"customer\": \"Something New\",\n",
    "    \"predictions\": {\n",
    "        \"closing\": 0,\n",
    "        \"contact\": 0,\n",
    "        \"customer\": 0,\n",
    "        \"customer_support\": 0,\n",
    "        \"feedback\": 0,\n",
    "        \"food\": 0,\n",
    "        \"hours\": 0,\n",
    "        \"inventory\": 0,\n",
    "        \"manager\": 0,\n",
    "        \"menu\": 0,\n",
    "        \"opening\": 0,\n",
    "        \"products\": 0,\n",
    "        \"service\": 0,\n",
    "        \"time\": 0,\n",
    "    },\n",
    "}\n"
   ]
  },
  {
   "cell_type": "code",
   "execution_count": 84,
   "metadata": {},
   "outputs": [
    {
     "data": {
      "text/plain": [
       "[]"
      ]
     },
     "execution_count": 84,
     "metadata": {},
     "output_type": "execute_result"
    }
   ],
   "source": [
    "pred_tags = [k for k, v in pred_response[\"predictions\"].items() if v != 0]\n",
    "pred_tags"
   ]
  },
  {
   "cell_type": "code",
   "execution_count": 87,
   "metadata": {},
   "outputs": [],
   "source": [
    "mask = bot_df.tags.apply(lambda x: set(pred_tags) == set(x))"
   ]
  },
  {
   "cell_type": "code",
   "execution_count": 88,
   "metadata": {},
   "outputs": [],
   "source": [
    "resposne_df = bot_df[mask]"
   ]
  },
  {
   "cell_type": "code",
   "execution_count": 90,
   "metadata": {},
   "outputs": [
    {
     "data": {
      "text/plain": [
       "[]"
      ]
     },
     "execution_count": 90,
     "metadata": {},
     "output_type": "execute_result"
    }
   ],
   "source": [
    "all_res = resposne_df.responses.tolist()\n",
    "all_res"
   ]
  }
 ],
 "metadata": {
  "interpreter": {
   "hash": "3f974c8ad61cc695350af2e473b6262c39c5cf1e38ef000910a68d7f66842ce0"
  },
  "kernelspec": {
   "display_name": "Python 3.10.4 ('bot-2z_5KoXr')",
   "language": "python",
   "name": "python3"
  },
  "language_info": {
   "codemirror_mode": {
    "name": "ipython",
    "version": 3
   },
   "file_extension": ".py",
   "mimetype": "text/x-python",
   "name": "python",
   "nbconvert_exporter": "python",
   "pygments_lexer": "ipython3",
   "version": "3.10.4"
  },
  "orig_nbformat": 4
 },
 "nbformat": 4,
 "nbformat_minor": 2
}
